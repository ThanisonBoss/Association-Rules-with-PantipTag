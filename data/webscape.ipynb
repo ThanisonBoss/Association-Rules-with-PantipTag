{
 "cells": [
  {
   "cell_type": "code",
   "execution_count": 38,
   "metadata": {},
   "outputs": [],
   "source": [
    "import requests\n",
    "from bs4 import BeautifulSoup\n",
    "import pandas as pd"
   ]
  },
  {
   "cell_type": "code",
   "execution_count": 52,
   "metadata": {},
   "outputs": [
    {
     "data": {
      "text/plain": [
       "[['ข้อเสนอแนะถึงพันทิป'],\n",
       " ['วิธีการใช้งานพันทิป'],\n",
       " ['วิธีการใช้งานพันทิป'],\n",
       " ['กิจกรรมพันทิป'],\n",
       " ['วิธีการใช้งานพันทิป'],\n",
       " ['วิธีการใช้งานพันทิป'],\n",
       " ['การเมือง'],\n",
       " ['สุขภาพจิต'],\n",
       " ['Gadget', 'Mac', 'เกม', 'ซอฟต์แวร์', 'การพัฒนาซอฟต์แวร์'],\n",
       " ['กิจกรรมสมาชิกพันทิป'],\n",
       " ['ฮาร์ดแวร์', 'คอมพิวเตอร์'],\n",
       " ['กล้อง Canon'],\n",
       " ['เทคโนโลยี']]"
      ]
     },
     "execution_count": 52,
     "metadata": {},
     "output_type": "execute_result"
    }
   ],
   "source": [
    "itemsets = []\n",
    "\n",
    "try:\n",
    "    for i in range(30000000,30000015):\n",
    "        url = f\"https://pantip.com/topic/{i}\"\n",
    "        r = requests.get(url)\n",
    "        soup = BeautifulSoup(r.text, 'html.parser')\n",
    "        tags = soup.find_all(\"a\",{\"class\":\"tag-item cs-tag_topic_title\"})\n",
    "        if not tags:\n",
    "            continue\n",
    "        itemset = []\n",
    "        for tag in tags:\n",
    "            itemset.append(tag.string)\n",
    "        itemsets.append(itemset)\n",
    "        \n",
    "except:\n",
    "    print(\"An exception occurred\")\n",
    "\n",
    "itemsets"
   ]
  },
  {
   "cell_type": "code",
   "execution_count": 53,
   "metadata": {},
   "outputs": [],
   "source": [
    "data = pd.DataFrame({\"itemsets\" : itemsets})\n",
    "data.to_csv(\"pantipTag.csv\")"
   ]
  }
 ],
 "metadata": {
  "kernelspec": {
   "display_name": "Python 3.9.7 ('.env': venv)",
   "language": "python",
   "name": "python3"
  },
  "language_info": {
   "codemirror_mode": {
    "name": "ipython",
    "version": 3
   },
   "file_extension": ".py",
   "mimetype": "text/x-python",
   "name": "python",
   "nbconvert_exporter": "python",
   "pygments_lexer": "ipython3",
   "version": "3.9.7"
  },
  "orig_nbformat": 4,
  "vscode": {
   "interpreter": {
    "hash": "cc5b153717cf8c1fc0316ddc42aab86dc832fd55cf13de0f45472735eff46826"
   }
  }
 },
 "nbformat": 4,
 "nbformat_minor": 2
}
