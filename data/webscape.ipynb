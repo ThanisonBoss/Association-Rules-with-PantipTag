{
 "cells": [
  {
   "cell_type": "code",
   "execution_count": 1,
   "metadata": {},
   "outputs": [],
   "source": [
    "import requests\n",
    "from bs4 import BeautifulSoup\n",
    "import pandas as pd\n",
    "from tqdm import tqdm"
   ]
  },
  {
   "cell_type": "code",
   "execution_count": 2,
   "metadata": {},
   "outputs": [
    {
     "name": "stderr",
     "output_type": "stream",
     "text": [
      "  0%|          | 21745/9926000 [8:13:51<3153:05:11,  1.15s/it]   "
     ]
    }
   ],
   "source": [
    "itemsets = []\n",
    "#current 30095001\n",
    "try:\n",
    "    for i in tqdm(range(30095001,40000001)):\n",
    "        url = f\"https://pantip.com/topic/{i}\"\n",
    "        r = requests.get(url)\n",
    "        r.encoding = \"utf-8\"\n",
    "        soup = BeautifulSoup(r.text, 'html.parser')\n",
    "        tags = soup.find_all(\"a\",{\"class\":\"tag-item cs-tag_topic_title\"})\n",
    "        if not tags:\n",
    "            continue\n",
    "        itemset = []\n",
    "        for tag in tags:\n",
    "            itemset.append(tag.string)\n",
    "        itemsets.append(itemset)\n",
    "\n",
    "        if (i%1000 == 0):\n",
    "            data = pd.DataFrame({\"itemsets\" : itemsets})\n",
    "            data.to_csv(f\"pantipTag{i}.csv\")\n",
    "\n",
    "except:\n",
    "    print(\"An exception occurred\")\n"
   ]
  }
 ],
 "metadata": {
  "kernelspec": {
   "display_name": "Python 3.9.7 ('.env': venv)",
   "language": "python",
   "name": "python3"
  },
  "language_info": {
   "codemirror_mode": {
    "name": "ipython",
    "version": 3
   },
   "file_extension": ".py",
   "mimetype": "text/x-python",
   "name": "python",
   "nbconvert_exporter": "python",
   "pygments_lexer": "ipython3",
   "version": "3.9.7"
  },
  "orig_nbformat": 4,
  "vscode": {
   "interpreter": {
    "hash": "ea4d9a210f15d2b23e2d72e0ca49c0e8e24a34d2b54939f9e75389bf4eceafb1"
   }
  }
 },
 "nbformat": 4,
 "nbformat_minor": 2
}
